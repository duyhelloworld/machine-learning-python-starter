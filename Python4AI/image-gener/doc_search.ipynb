{
 "cells": [
  {
   "cell_type": "code",
   "execution_count": null,
   "metadata": {},
   "outputs": [],
   "source": [
    "### https://the-decoder.com/openai-dall-e-2-prompt-guide-how-to-control-image-generation/"
   ]
  },
  {
   "cell_type": "markdown",
   "metadata": {},
   "source": [
    "#### DALL-E vẫn có những mặt yếu\n",
    "[1 bài viết đã tìm thấy](https://www.lesswrong.com/posts/uKp6tBFStnsvrot5t/what-dall-e-2-can-and-cannot-do)\n",
    "\n",
    "\n",
    "### Drawback of DALLE \n",
    "\n",
    "> Handle 2 characters\n",
    "        `prompt=\"image Iron man nearby Captain America\",`\n",
    "\n",
    "> Foreground and background\n",
    "\n",
    "> Novel objects, or nonstandard usages \n",
    "        `prompt=\"the Star-Eyed Goddess\",`"
   ]
  },
  {
   "cell_type": "markdown",
   "metadata": {},
   "source": [
    "<!-- ![Image](https://oaidalleapiprodscus.blob.core.windows.net/private/org-uqSPrUa05dwOwelP8ICDeZPZ/user-e8SmS6dd0a7Y6sAihl1TDBLC/img-lbFUtnC7xmjfinb3KIEPi6Lv.png?st=2023-05-07T12%3A10%3A01Z&se=2023-05-07T14%3A10%3A01Z&sp=r&sv=2021-08-06&sr=b&rscd=inline&rsct=image/png&skoid=6aaadede-4fb3-4698-a8f6-684d7786b067&sktid=a48cca56-e6da-484e-a814-9c849652bcb3&skt=2023-05-07T00%3A42%3A11Z&ske=2023-05-08T00%3A42%3A11Z&sks=b&skv=2021-08-06&sig=S4A0D2DGD0lLwZVJ9cQpwyk8xwb/uC5kLWrtJYdW8mE%3D) -->"
   ]
  },
  {
   "cell_type": "code",
   "execution_count": 1,
   "metadata": {},
   "outputs": [],
   "source": [
    "link_app = 'https://github.com/mcrd25/python-image-gen'"
   ]
  }
 ],
 "metadata": {
  "kernelspec": {
   "display_name": "Python 3",
   "language": "python",
   "name": "python3"
  },
  "language_info": {
   "codemirror_mode": {
    "name": "ipython",
    "version": 3
   },
   "file_extension": ".py",
   "mimetype": "text/x-python",
   "name": "python",
   "nbconvert_exporter": "python",
   "pygments_lexer": "ipython3",
   "version": "3.10.7"
  },
  "orig_nbformat": 4
 },
 "nbformat": 4,
 "nbformat_minor": 2
}
