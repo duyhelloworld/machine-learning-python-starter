{
 "cells": [
  {
   "cell_type": "code",
   "execution_count": 29,
   "metadata": {},
   "outputs": [],
   "source": [
    "features = [[\"nhe\", \"tb\", \"tb\", \"nhieu\"],\n",
    "            [\"nang\", \"thap\", \"cao\", \"it\"],\n",
    "            [\"nhe\", \"thap\", \"cao\", \"it\"],\n",
    "            [\"nang\", \"cao\", \"cao\", \"tb\"],\n",
    "            [\"nhe\", \"cao\", \"cao\", \"nhieu\"],\n",
    "            [\"tb\", \"thap\", \"tb\", \"nhieu\"],\n",
    "            [\"tb\", \"tb\", \"tb\", \"it\"],\n",
    "            [\"nang\", \"thap\", \"thap\", \"nhieu\"],\n",
    "            [\"nhe\", \"cao\", \"tb\", \"it\"],\n",
    "            [\"nhe\", \"cao\", \"tb\", \"nhieu\"]]\n",
    "\n",
    "###         weight / height / blood pressure / exercise\n",
    "\n",
    "features_formalize = [[1, 3, 3, 7], \n",
    "                      [5, 2, 4, 6],\n",
    "                      [1, 2, 4, 6],\n",
    "                      [5, 4, 4, 3],\n",
    "                      [1, 4, 4, 7],\n",
    "                      [3, 2, 3, 7],\n",
    "                      [3, 3, 3, 6],\n",
    "                      [5, 2, 2, 7]]"
   ]
  },
  {
   "attachments": {},
   "cell_type": "markdown",
   "metadata": {},
   "source": [
    "### data formalize                \n",
    "|name|value|\n",
    "|-|-|\n",
    "|nhe|1|\n",
    "|thap|2|\n",
    "|trung binh|3|\n",
    "|cao|4|\n",
    "|nang|5|\n",
    "|it|6|\n",
    "|nhieu|7|"
   ]
  },
  {
   "cell_type": "code",
   "execution_count": 30,
   "metadata": {},
   "outputs": [],
   "source": [
    "labels = [0, 1, 1, 0, 0, 0, 0, 1]"
   ]
  },
  {
   "attachments": {},
   "cell_type": "markdown",
   "metadata": {},
   "source": [
    "### pip install skicit-learn"
   ]
  },
  {
   "cell_type": "code",
   "execution_count": 31,
   "metadata": {},
   "outputs": [],
   "source": [
    "from sklearn import tree "
   ]
  },
  {
   "cell_type": "code",
   "execution_count": 32,
   "metadata": {},
   "outputs": [],
   "source": [
    "DTree = tree.DecisionTreeClassifier()"
   ]
  },
  {
   "cell_type": "code",
   "execution_count": 33,
   "metadata": {},
   "outputs": [],
   "source": [
    "model = DTree.fit(features_formalize, labels)"
   ]
  },
  {
   "cell_type": "code",
   "execution_count": null,
   "metadata": {},
   "outputs": [
    {
     "data": {
      "text/plain": [
       "array([0, 1])"
      ]
     },
     "execution_count": 21,
     "metadata": {},
     "output_type": "execute_result"
    }
   ],
   "source": [
    "predict = model.predict([[3, 3, 3, 6],\n",
    "                        [5, 2, 2, 7]])\n",
    "predict"
   ]
  },
  {
   "cell_type": "code",
   "execution_count": 36,
   "metadata": {},
   "outputs": [
    {
     "data": {
      "text/plain": [
       "array([0])"
      ]
     },
     "execution_count": 36,
     "metadata": {},
     "output_type": "execute_result"
    }
   ],
   "source": [
    "# predict = model.predict([[1, 4, 3, 6]])\n",
    "predict = model.predict([[1, 4, 3, 7]])\n",
    "predict"
   ]
  },
  {
   "cell_type": "code",
   "execution_count": null,
   "metadata": {},
   "outputs": [],
   "source": [
    "# tree.plot_tree(model)"
   ]
  },
  {
   "cell_type": "code",
   "execution_count": null,
   "metadata": {},
   "outputs": [],
   "source": []
  },
  {
   "cell_type": "code",
   "execution_count": null,
   "metadata": {},
   "outputs": [],
   "source": [
    "def DecicionTree(x, root):\n",
    "    if root == None:\n",
    "        return \n",
    "    "
   ]
  }
 ],
 "metadata": {
  "kernelspec": {
   "display_name": "Python 3",
   "language": "python",
   "name": "python3"
  },
  "language_info": {
   "codemirror_mode": {
    "name": "ipython",
    "version": 3
   },
   "file_extension": ".py",
   "mimetype": "text/x-python",
   "name": "python",
   "nbconvert_exporter": "python",
   "pygments_lexer": "ipython3",
   "version": "3.10.7"
  },
  "orig_nbformat": 4
 },
 "nbformat": 4,
 "nbformat_minor": 2
}
