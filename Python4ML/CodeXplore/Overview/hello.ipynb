{
 "cells": [
  {
   "cell_type": "code",
   "execution_count": 1,
   "metadata": {},
   "outputs": [],
   "source": [
    "import numpy as np\n",
    "import pandas as pd"
   ]
  },
  {
   "cell_type": "code",
   "execution_count": 4,
   "metadata": {},
   "outputs": [],
   "source": [
    "fake_data = {\n",
    "    \"id\" : [1, 2, 3, 4],\n",
    "    \"name\" : [\"Duy\", \"Hang\", \"Hiep\", \"Linh\"],\n",
    "    \"age\" : [20, 19, 20, 21],\n",
    "    \"sex\": [\"male\",\"female\", \"male\", \"female\"]\n",
    "}"
   ]
  },
  {
   "cell_type": "code",
   "execution_count": null,
   "metadata": {},
   "outputs": [],
   "source": [
    "# df = pd.read_json(encoding=\"utf-8\", )\n",
    "# df_test = pd.DataFrame(fake_data)\n",
    "# df_test.describe()\n",
    "# df_test"
   ]
  },
  {
   "cell_type": "code",
   "execution_count": null,
   "metadata": {},
   "outputs": [],
   "source": [
    "# load file\n",
    "path = \"./chitole.tsv\"\n",
    "df = pd.read_csv(filepath_or_buffer=path, encoding=\"utf-8\",sep=\"\\t\")\n",
    "# df\n",
    "# df.tail(5)"
   ]
  },
  {
   "cell_type": "code",
   "execution_count": 33,
   "metadata": {},
   "outputs": [
    {
     "data": {
      "text/plain": [
       "8.0"
      ]
     },
     "execution_count": 33,
     "metadata": {},
     "output_type": "execute_result"
    }
   ],
   "source": [
    "# Make Series\n",
    "seri = pd.Series([8.0, 5.5, None], name=\"IELTS_mark\")\n",
    "# seri\n",
    "# Get Series\n",
    "# df[\"item_name\"].head(8)\n",
    "# Do ST\n",
    "# seri.max()"
   ]
  },
  {
   "cell_type": "markdown",
   "metadata": {},
   "source": []
  },
  {
   "cell_type": "code",
   "execution_count": null,
   "metadata": {},
   "outputs": [],
   "source": [
    "# View properties\n",
    "# df.shape\n",
    "# Format result : (row, column)\n",
    "# df.info()\n",
    "\n",
    "# Miss 242 rows in choice_description\n",
    "\n",
    "# Columns name\n",
    "# tuple(df.columns)\n",
    "\n",
    "# How indexing\n",
    "# df.index\n",
    "\n",
    "# Statistic summary\n",
    "# df.describe()\n",
    "df.describe(include=\"all\")"
   ]
  },
  {
   "cell_type": "code",
   "execution_count": null,
   "metadata": {},
   "outputs": [],
   "source": [
    "# loc & iloc\n",
    "df.iloc()"
   ]
  }
 ],
 "metadata": {
  "kernelspec": {
   "display_name": "Python 3",
   "language": "python",
   "name": "python3"
  },
  "language_info": {
   "codemirror_mode": {
    "name": "ipython",
    "version": 3
   },
   "file_extension": ".py",
   "mimetype": "text/x-python",
   "name": "python",
   "nbconvert_exporter": "python",
   "pygments_lexer": "ipython3",
   "version": "3.10.6"
  },
  "orig_nbformat": 4
 },
 "nbformat": 4,
 "nbformat_minor": 2
}
