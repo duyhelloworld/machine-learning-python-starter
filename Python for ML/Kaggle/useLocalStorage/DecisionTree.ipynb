{
 "cells": [
  {
   "cell_type": "code",
   "execution_count": null,
   "metadata": {},
   "outputs": [],
   "source": [
    "import pandas as pd"
   ]
  },
  {
   "cell_type": "code",
   "execution_count": null,
   "metadata": {},
   "outputs": [],
   "source": [
    "melbourneHousing_path = './melb_data.csv'\n",
    "melbourne_data = pd.read_csv(melbourneHousing_path)\n",
    "# print(melbourne_data)\n",
    "# melbourne_data.describe()"
   ]
  },
  {
   "cell_type": "code",
   "execution_count": null,
   "metadata": {},
   "outputs": [],
   "source": [
    "# Print summary statistics in next line\n",
    "iowa_file_path = './train.csv'\n",
    "home_data = pd.read_csv(iowa_file_path)\n",
    "data = home_data.describe()\n",
    "print(data)"
   ]
  },
  {
   "cell_type": "code",
   "execution_count": null,
   "metadata": {},
   "outputs": [],
   "source": [
    "# What is the average lot size (rounded to nearest integer)?\n",
    "avg_lot_size = round(data[\"LotArea\"].get(key=\"mean\"), ndigits=None)\n",
    "print(avg_lot_size)\n",
    "\n",
    "# As of today, how old is the newest home (current year - the date in which it was built)\n",
    "import datetime\n",
    "newest_home_age = round(datetime.date.today().year - data.YearBuilt.max())\n",
    "print(newest_home_age)\n",
    "\n",
    "# Checks your answers\n",
    "# step_2.check()"
   ]
  },
  {
   "cell_type": "code",
   "execution_count": null,
   "metadata": {},
   "outputs": [],
   "source": [
    "# Data is outdated\n",
    "# Average year for building a new house\n",
    "year_build_new_house = []\n",
    "distance_year = [data[\"YearBuilt\"].get(key=\"min\"), data[\"YearBuilt\"].get(key=\"25%\"), data[\"YearBuilt\"].get(key=\"50%\"), data[\"YearBuilt\"].get(key=\"75%\"), data[\"YearBuilt\"].get(key=\"max\") ]\n",
    "for i in range(1, len(distance_year)):\n",
    "    year = round(year)\n",
    "    year_build_new_house.append(distance_year[i] - distance_year[i-1])\n",
    "\n",
    "print(distance_year)\n",
    "print(year_build_new_house)\n",
    "\n",
    "print(\"Average = \", sum(year_build_new_house) / len(year_build_new_house))"
   ]
  }
 ],
 "metadata": {
  "kernelspec": {
   "display_name": "Python 3",
   "language": "python",
   "name": "python3"
  },
  "language_info": {
   "codemirror_mode": {
    "name": "ipython",
    "version": 3
   },
   "file_extension": ".py",
   "mimetype": "text/x-python",
   "name": "python",
   "nbconvert_exporter": "python",
   "pygments_lexer": "ipython3",
   "version": "3.10.6"
  },
  "orig_nbformat": 4
 },
 "nbformat": 4,
 "nbformat_minor": 2
}
